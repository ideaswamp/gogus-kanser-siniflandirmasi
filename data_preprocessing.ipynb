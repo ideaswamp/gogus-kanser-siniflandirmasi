{
 "cells": [
  {
   "cell_type": "markdown",
   "metadata": {},
   "source": [
    "## [Göğüs Kanseri Veri Setini Anlamak - Daha fazla bilgi için tıklayın.](https://archive.ics.uci.edu/dataset/15/breast+cancer+wisconsin+original)\n",
    "### Veri Seti Genel Bilgileri:\n",
    "- Örnek Sayısı: 699\n",
    "- Özellik Sayısı: 9\n",
    "- Eksik Veri Durumu: Var\n",
    "### Ek Değişken Bilgileri:\n",
    "Sıra_No [Kısaltması] Öznitelik_adı--->Değer_aralığı\n",
    "1. **Sample code number (Numara):** --->kimlik_numarası\n",
    "2. **Clump Thickness (Yığın Kalınlığı):** --->[1 - 10]\n",
    "3. **Uniformity of Cell Size (Hücre Boyutunun Eşbiçimliliği):** --->[1 - 10]\n",
    "4. **Uniformity of Cell Shape (Hücre Şekil Eşbiçimliliği):** --->[1 - 10]\n",
    "5. **Marginal Adhesion (Marjinal Yapışma):** --->[1 - 10]\n",
    "6. **Single Epithelial Cell Size (Tek Epitel Hücre Boyutu):** --->[1 - 10]\n",
    "7. **Bare Nuclei (Çıplak Çekirdekler):** --->[1 - 10]\n",
    "8. **Bland Chromatin (Yumuşak Kromatin):** --->[1 - 10]\n",
    "9. **Normal Nucleoli(Normal Nükleoli):** --->[1 - 10]\n",
    "10. **Mitoses (Mitoz):** --->[1 - 10]\n",
    "11. **Class (Sınıf):** --->(2=İyi Huylu, 4=Kötü Huylu)"
   ]
  },
  {
   "cell_type": "markdown",
   "metadata": {},
   "source": [
    "## Daha Çok Bilgi/Makale:\n",
    "* [Meme Kanseri Tanısı İçin Özniteliklerin Öneminin Değerlendirilmesi Üzerine Bir\n",
    "Çalışma](https://dergipark.org.tr/en/download/article-file/519015)\n",
    "* [webmd.com - Breast Cancer: Symptoms, Causes, Treatment](https://www.webmd.com/breast-cancer/understanding-breast-cancer-basics)\n",
    "* [On the Bias of Precision Estimation Under Separate Sampling](https://journals.sagepub.com/doi/pdf/10.1177/1176935119860822)"
   ]
  },
  {
   "cell_type": "code",
   "execution_count": 67,
   "metadata": {
    "metadata": {}
   },
   "outputs": [],
   "source": [
    "import numpy as np \n",
    "import pandas as pd \n",
    "import matplotlib.pyplot as plt\n",
    "import seaborn as sns\n"
   ]
  },
  {
   "cell_type": "code",
   "execution_count": 68,
   "metadata": {
    "metadata": {}
   },
   "outputs": [
    {
     "data": {
      "text/html": [
       "<div>\n",
       "<style scoped>\n",
       "    .dataframe tbody tr th:only-of-type {\n",
       "        vertical-align: middle;\n",
       "    }\n",
       "\n",
       "    .dataframe tbody tr th {\n",
       "        vertical-align: top;\n",
       "    }\n",
       "\n",
       "    .dataframe thead th {\n",
       "        text-align: right;\n",
       "    }\n",
       "</style>\n",
       "<table border=\"1\" class=\"dataframe\">\n",
       "  <thead>\n",
       "    <tr style=\"text-align: right;\">\n",
       "      <th></th>\n",
       "      <th>id</th>\n",
       "      <th>clump_thickness</th>\n",
       "      <th>size_uniformity</th>\n",
       "      <th>shape_uniformity</th>\n",
       "      <th>marginal_adhesion</th>\n",
       "      <th>epithelial_size</th>\n",
       "      <th>bare_nucleoli</th>\n",
       "      <th>bland_chromatin</th>\n",
       "      <th>normal_nucleoli</th>\n",
       "      <th>mitoses</th>\n",
       "      <th>class</th>\n",
       "    </tr>\n",
       "  </thead>\n",
       "  <tbody>\n",
       "    <tr>\n",
       "      <th>0</th>\n",
       "      <td>1000025</td>\n",
       "      <td>5</td>\n",
       "      <td>1</td>\n",
       "      <td>1</td>\n",
       "      <td>1</td>\n",
       "      <td>2</td>\n",
       "      <td>1</td>\n",
       "      <td>3</td>\n",
       "      <td>1</td>\n",
       "      <td>1</td>\n",
       "      <td>2</td>\n",
       "    </tr>\n",
       "    <tr>\n",
       "      <th>1</th>\n",
       "      <td>1002945</td>\n",
       "      <td>5</td>\n",
       "      <td>4</td>\n",
       "      <td>4</td>\n",
       "      <td>5</td>\n",
       "      <td>7</td>\n",
       "      <td>10</td>\n",
       "      <td>3</td>\n",
       "      <td>2</td>\n",
       "      <td>1</td>\n",
       "      <td>2</td>\n",
       "    </tr>\n",
       "    <tr>\n",
       "      <th>2</th>\n",
       "      <td>1015425</td>\n",
       "      <td>3</td>\n",
       "      <td>1</td>\n",
       "      <td>1</td>\n",
       "      <td>1</td>\n",
       "      <td>2</td>\n",
       "      <td>2</td>\n",
       "      <td>3</td>\n",
       "      <td>1</td>\n",
       "      <td>1</td>\n",
       "      <td>2</td>\n",
       "    </tr>\n",
       "    <tr>\n",
       "      <th>3</th>\n",
       "      <td>1016277</td>\n",
       "      <td>6</td>\n",
       "      <td>8</td>\n",
       "      <td>8</td>\n",
       "      <td>1</td>\n",
       "      <td>3</td>\n",
       "      <td>4</td>\n",
       "      <td>3</td>\n",
       "      <td>7</td>\n",
       "      <td>1</td>\n",
       "      <td>2</td>\n",
       "    </tr>\n",
       "    <tr>\n",
       "      <th>4</th>\n",
       "      <td>1017023</td>\n",
       "      <td>4</td>\n",
       "      <td>1</td>\n",
       "      <td>1</td>\n",
       "      <td>3</td>\n",
       "      <td>2</td>\n",
       "      <td>1</td>\n",
       "      <td>3</td>\n",
       "      <td>1</td>\n",
       "      <td>1</td>\n",
       "      <td>2</td>\n",
       "    </tr>\n",
       "  </tbody>\n",
       "</table>\n",
       "</div>"
      ],
      "text/plain": [
       "        id  clump_thickness  size_uniformity  shape_uniformity  \\\n",
       "0  1000025                5                1                 1   \n",
       "1  1002945                5                4                 4   \n",
       "2  1015425                3                1                 1   \n",
       "3  1016277                6                8                 8   \n",
       "4  1017023                4                1                 1   \n",
       "\n",
       "   marginal_adhesion  epithelial_size bare_nucleoli  bland_chromatin  \\\n",
       "0                  1                2             1                3   \n",
       "1                  5                7            10                3   \n",
       "2                  1                2             2                3   \n",
       "3                  1                3             4                3   \n",
       "4                  3                2             1                3   \n",
       "\n",
       "   normal_nucleoli  mitoses  class  \n",
       "0                1        1      2  \n",
       "1                2        1      2  \n",
       "2                1        1      2  \n",
       "3                7        1      2  \n",
       "4                1        1      2  "
      ]
     },
     "execution_count": 68,
     "metadata": {},
     "output_type": "execute_result"
    }
   ],
   "source": [
    "dataset= pd.read_csv(\"breastCancer.csv\")\n",
    "dataset.head()"
   ]
  },
  {
   "cell_type": "code",
   "execution_count": 69,
   "metadata": {
    "metadata": {}
   },
   "outputs": [],
   "source": [
    "#sonraki kullanımlarda ve okunmalarda kolaylık sağlanması açısından özelliklerin isimleri yukarda belirtilmiş şekilde kısa türkçe karşılıkları ile değiştirildi\n",
    "dataset.columns= [\"numara\", \"yigin_kalinligi\", \"hucre_boyutu_esbicim\", \"hucre_sekil_esbicim\", \"marjinal_yapisma\", \"tek_epitel_hucre_boyut\", \"ciplak_cekirdekler\", \"yumusak_kromatin\", \"normal_nukleoli\", \"mitoz\", \"sinif\" ]"
   ]
  },
  {
   "cell_type": "code",
   "execution_count": 70,
   "metadata": {
    "metadata": {}
   },
   "outputs": [
    {
     "name": "stdout",
     "output_type": "stream",
     "text": [
      "<class 'pandas.core.frame.DataFrame'>\n",
      "RangeIndex: 699 entries, 0 to 698\n",
      "Data columns (total 11 columns):\n",
      " #   Column                  Non-Null Count  Dtype \n",
      "---  ------                  --------------  ----- \n",
      " 0   numara                  699 non-null    int64 \n",
      " 1   yigin_kalinligi         699 non-null    int64 \n",
      " 2   hucre_boyutu_esbicim    699 non-null    int64 \n",
      " 3   hucre_sekil_esbicim     699 non-null    int64 \n",
      " 4   marjinal_yapisma        699 non-null    int64 \n",
      " 5   tek_epitel_hucre_boyut  699 non-null    int64 \n",
      " 6   ciplak_cekirdekler      699 non-null    object\n",
      " 7   yumusak_kromatin        699 non-null    int64 \n",
      " 8   normal_nukleoli         699 non-null    int64 \n",
      " 9   mitoz                   699 non-null    int64 \n",
      " 10  sinif                   699 non-null    int64 \n",
      "dtypes: int64(10), object(1)\n",
      "memory usage: 60.2+ KB\n"
     ]
    }
   ],
   "source": [
    "#Veriseti üzerinde eksik değer, veri tipi gibi genel bilgileri öğrenmek için info() özelliği kullanılır\n",
    "dataset.info()"
   ]
  },
  {
   "cell_type": "markdown",
   "metadata": {},
   "source": [
    "verisetinde eksik değerler sadece \"ciplak_cekirdekler\" satırında bulunmakta ve \"?\" işareti ile belirtilmiştir."
   ]
  },
  {
   "cell_type": "code",
   "execution_count": 71,
   "metadata": {
    "metadata": {}
   },
   "outputs": [],
   "source": [
    "#\"ciplak_cekirdekler\" satırında bulunan \n",
    "dataset['ciplak_cekirdekler'] = dataset['ciplak_cekirdekler'].replace('?', np.nan)\n",
    "dataset.dropna(inplace=True)\n",
    "dataset['ciplak_cekirdekler'] = pd.to_numeric(dataset['ciplak_cekirdekler'])"
   ]
  },
  {
   "cell_type": "code",
   "execution_count": 72,
   "metadata": {
    "metadata": {}
   },
   "outputs": [
    {
     "name": "stdout",
     "output_type": "stream",
     "text": [
      "<class 'pandas.core.frame.DataFrame'>\n",
      "Int64Index: 683 entries, 0 to 698\n",
      "Data columns (total 11 columns):\n",
      " #   Column                  Non-Null Count  Dtype\n",
      "---  ------                  --------------  -----\n",
      " 0   numara                  683 non-null    int64\n",
      " 1   yigin_kalinligi         683 non-null    int64\n",
      " 2   hucre_boyutu_esbicim    683 non-null    int64\n",
      " 3   hucre_sekil_esbicim     683 non-null    int64\n",
      " 4   marjinal_yapisma        683 non-null    int64\n",
      " 5   tek_epitel_hucre_boyut  683 non-null    int64\n",
      " 6   ciplak_cekirdekler      683 non-null    int64\n",
      " 7   yumusak_kromatin        683 non-null    int64\n",
      " 8   normal_nukleoli         683 non-null    int64\n",
      " 9   mitoz                   683 non-null    int64\n",
      " 10  sinif                   683 non-null    int64\n",
      "dtypes: int64(11)\n",
      "memory usage: 64.0 KB\n"
     ]
    }
   ],
   "source": [
    "dataset.info()"
   ]
  },
  {
   "cell_type": "markdown",
   "metadata": {
    "metadata": {}
   },
   "source": []
  },
  {
   "cell_type": "code",
   "execution_count": 73,
   "metadata": {
    "metadata": {}
   },
   "outputs": [
    {
     "data": {
      "text/plain": [
       "2    444\n",
       "4    239\n",
       "Name: sinif, dtype: int64"
      ]
     },
     "execution_count": 73,
     "metadata": {},
     "output_type": "execute_result"
    },
    {
     "data": {
      "image/png": "[encoded data removed]",
      "text/plain": [
       "<Figure size 640x480 with 1 Axes>"
      ]
     },
     "metadata": {},
     "output_type": "display_data"
    }
   ],
   "source": [
    "dataset['sinif'].plot(kind='hist',color='green')\n",
    "dataset['sinif'].value_counts()"
   ]
  },
  {
   "cell_type": "code",
   "execution_count": 74,
   "metadata": {
    "metadata": {}
   },
   "outputs": [],
   "source": [
    "# sinif sutununda bulunan 2 ve 4 değerleri 2(iyi huylu)-->0 ve 4(kötü huylu)-->1 olucak şekilde değiştirildi.\n",
    "dataset['sinif'] = dataset['sinif'].replace(2, 0)\n",
    "dataset['sinif'] = dataset['sinif'].replace(4, 1)"
   ]
  },
  {
   "cell_type": "code",
   "execution_count": 75,
   "metadata": {
    "metadata": {}
   },
   "outputs": [
    {
     "data": {
      "text/plain": [
       "0    444\n",
       "1    239\n",
       "Name: sinif, dtype: int64"
      ]
     },
     "execution_count": 75,
     "metadata": {},
     "output_type": "execute_result"
    },
    {
     "data": {
      "image/png": "[encoded data removed]",
      "text/plain": [
       "<Figure size 640x480 with 1 Axes>"
      ]
     },
     "metadata": {},
     "output_type": "display_data"
    }
   ],
   "source": [
    "dataset['sinif'].plot(kind='hist',color='green')\n",
    "dataset['sinif'].value_counts()"
   ]
  },
  {
   "cell_type": "code",
   "execution_count": 76,
   "metadata": {
    "metadata": {}
   },
   "outputs": [
    {
     "data": {
      "text/plain": [
       "numara                   -0.084701\n",
       "mitoz                     0.423448\n",
       "tek_epitel_hucre_boyut    0.690958\n",
       "marjinal_yapisma          0.706294\n",
       "yigin_kalinligi           0.714790\n",
       "normal_nukleoli           0.718677\n",
       "yumusak_kromatin          0.758228\n",
       "hucre_boyutu_esbicim      0.820801\n",
       "hucre_sekil_esbicim       0.821891\n",
       "ciplak_cekirdekler        0.822696\n",
       "sinif                     1.000000\n",
       "Name: sinif, dtype: float64"
      ]
     },
     "execution_count": 76,
     "metadata": {},
     "output_type": "execute_result"
    },
    {
     "data": {
      "image/png": "[encoded data removed]",
      "text/plain": [
       "<Figure size 640x480 with 1 Axes>"
      ]
     },
     "metadata": {},
     "output_type": "display_data"
    }
   ],
   "source": [
    "da\n",
    "dataset.corr()[\"sinif\"].sort_values().plot(kind=\"bar\")\n",
    "dataset.corr()[\"sinif\"].sort_values()"
   ]
  },
  {
   "cell_type": "code",
   "execution_count": 78,
   "metadata": {
    "metadata": {}
   },
   "outputs": [],
   "source": [
    "dataset.to_csv(\"breastCancer_processed.csv\",index=False)"
   ]
  },
  {
   "cell_type": "code",
   "execution_count": null,
   "metadata": {},
   "outputs": [],
   "source": []
  }
 ],
 "metadata": {
  "kernelspec": {
   "display_name": "Python 3",
   "language": "python",
   "name": "python3"
  },
  "language_info": {
   "codemirror_mode": {
    "name": "ipython",
    "version": 3
   },
   "file_extension": ".py",
   "mimetype": "text/x-python",
   "name": "python",
   "nbconvert_exporter": "python",
   "pygments_lexer": "ipython3",
   "version": "3.10.12"
  }
 },
 "nbformat": 4,
 "nbformat_minor": 2
}
